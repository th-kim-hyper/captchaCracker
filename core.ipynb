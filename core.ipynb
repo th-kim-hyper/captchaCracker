{
 "cells": [
  {
   "cell_type": "code",
   "execution_count": 2,
   "metadata": {},
   "outputs": [
    {
     "name": "stderr",
     "output_type": "stream",
     "text": [
      "  \u001b[31m×\u001b[0m No solution found when resolving dependencies:\n",
      "\u001b[31m  ╰─▶ \u001b[0mBecause all versions of valkey-glide have no wheels with a matching\n",
      "\u001b[31m      \u001b[0mplatform tag (e.g., `\u001b[36mwin_amd64\u001b[39m`) and you require valkey-glide, we can\n",
      "\u001b[31m      \u001b[0mconclude that your requirements are unsatisfiable.\n",
      "\n",
      "\u001b[31m      \u001b[0m\u001b[36m\u001b[1mhint\u001b[0m\u001b[39m\u001b[1m:\u001b[0m Pre-releases are available for `\u001b[36mvalkey-glide\u001b[39m` in the requested\n",
      "\u001b[31m      \u001b[0mrange (e.g., \u001b[36m1.3.1rc1\u001b[39m), but pre-releases weren't enabled (try:\n",
      "\u001b[31m      \u001b[0m`\u001b[32m--prerelease=allow\u001b[39m`)\n",
      "\n",
      "\u001b[31m      \u001b[0m\u001b[36m\u001b[1mhint\u001b[0m\u001b[39m\u001b[1m:\u001b[0m Wheels are available for `\u001b[36mvalkey-glide\u001b[39m` (\u001b[36mv1.3.1\u001b[39m) on the\n",
      "\u001b[31m      \u001b[0mfollowing platforms: `\u001b[36mmanylinux_2_17_aarch64\u001b[39m`, `\u001b[36mmanylinux_2_17_x86_64\u001b[39m`,\n",
      "\u001b[31m      \u001b[0m`\u001b[36mmanylinux2014_aarch64\u001b[39m`, `\u001b[36mmanylinux2014_x86_64\u001b[39m`, `\u001b[36mmacosx_11_0_arm64\u001b[39m`\n"
     ]
    }
   ],
   "source": [
    "!uv pip install valkey-glide\n"
   ]
  }
 ],
 "metadata": {
  "kernelspec": {
   "display_name": ".venv (3.11.11)",
   "language": "python",
   "name": "python3"
  },
  "language_info": {
   "codemirror_mode": {
    "name": "ipython",
    "version": 3
   },
   "file_extension": ".py",
   "mimetype": "text/x-python",
   "name": "python",
   "nbconvert_exporter": "python",
   "pygments_lexer": "ipython3",
   "version": "3.11.11"
  }
 },
 "nbformat": 4,
 "nbformat_minor": 2
}
