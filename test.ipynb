{
 "cells": [
  {
   "cell_type": "code",
   "execution_count": 5,
   "metadata": {},
   "outputs": [
    {
     "data": {
      "text/plain": [
       "'23456'"
      ]
     },
     "execution_count": 5,
     "metadata": {},
     "output_type": "execute_result"
    }
   ],
   "source": [
    "from cc.Core import Model, get_captcha_type_list\n",
    "\n",
    "captcha_id = 'default'\n",
    "captcha_type_list = get_captcha_type_list()\n",
    "train_data = captcha_type_list[captcha_id].train_data\n",
    "\n",
    "''.join(train_data.characters[:train_data.label_length])\n",
    "\n",
    "\n",
    "# train_data\n",
    "# epochs = 100\n",
    "# batch_size = 32\n",
    "# earlystopping = True\n",
    "# early_stopping_patience = 10\n",
    "# save_weights = True\n",
    "# save_model = True\n",
    "\n",
    "# model = Model(train_data=train_data, save_model=save_model, save_weights=save_weights) \n",
    "# model.train_model(\n",
    "#     epochs=epochs,\n",
    "#     batch_size=batch_size,\n",
    "#     earlystopping=earlystopping,\n",
    "#     early_stopping_patience=early_stopping_patience,\n",
    "#     save_weights=save_weights,\n",
    "#     save_model=save_model)\n",
    "\n",
    "# print(\"Done!\")"
   ]
  }
 ],
 "metadata": {
  "kernelspec": {
   "display_name": ".venv",
   "language": "python",
   "name": "python3"
  },
  "language_info": {
   "codemirror_mode": {
    "name": "ipython",
    "version": 3
   },
   "file_extension": ".py",
   "mimetype": "text/x-python",
   "name": "python",
   "nbconvert_exporter": "python",
   "pygments_lexer": "ipython3",
   "version": "3.11.11"
  }
 },
 "nbformat": 4,
 "nbformat_minor": 2
}
