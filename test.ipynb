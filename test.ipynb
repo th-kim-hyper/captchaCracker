{
 "cells": [
  {
   "cell_type": "code",
   "execution_count": 15,
   "metadata": {},
   "outputs": [
    {
     "data": {
      "image/jpeg": "[encoded data removed]",
      "image/png": "[encoded data removed]",
      "text/plain": [
       "<PIL.Image.Image image mode=RGB size=139x52>"
      ]
     },
     "metadata": {},
     "output_type": "display_data"
    }
   ],
   "source": [
    "from PIL import Image, ImageOps\n",
    "import requests\n",
    "from io import BytesIO\n",
    "import time, glob, os\n",
    "from hyper import Hyper, CaptchaType\n",
    "\n",
    "def imageLoadFromUrl(url):\n",
    "    response = requests.get(url)\n",
    "    img = Image.open(BytesIO(response.content))\n",
    "    return img\n",
    "\n",
    "def toTrainImage(img):\n",
    "    img = img.crop((1, 1, img.width -1, img.height -1))\n",
    "    fill_color = (255,255,255)\n",
    "    bg_white = Image.new(\"RGBA\", img.size, fill_color)\n",
    "    bg_white.paste(img, (0, 0), img)\n",
    "    bg_white = bg_white.convert(\"L\")\n",
    "    return bg_white\n",
    "\n",
    "def getData():\n",
    "    url = \"https://safind.scourt.go.kr/sf/captchaImg?t=image\"\n",
    "    img = imageLoadFromUrl(url)\n",
    "    img = toTrainImage(img)\n",
    "    time_stamp = int(time.time())\n",
    "    save_path = f\"images/supreme_court/down/{time_stamp}.png\"\n",
    "    img.save(save_path)\n",
    "    # pred = hyper.predict(img)\n",
    "    img.close()\n",
    "    img = None\n",
    "    return save_path\n",
    "\n",
    "def getGov24Data(loop=1, delay=1.0):\n",
    "    url = \"https://www.gov.kr/nlogin/captcha\"\n",
    "\n",
    "    for i in range(loop):\n",
    "        img = imageLoadFromUrl(url)\n",
    "        # img = toTrainImage(img)\n",
    "        time_stamp = int(time.time())\n",
    "        save_path = f\"images/gov24/down/{time_stamp}.png\"\n",
    "        img.save(save_path)\n",
    "        # pred = hyper.predict(img)\n",
    "        img.close()\n",
    "        img = None\n",
    "        time.sleep(delay)\n",
    "        # return save_path\n",
    "\n",
    "baseDir = \"\"\n",
    "imgDir = os.path.join(baseDir, \"images\", \"gov24\", \"down\")\n",
    "saveDir = os.path.join(baseDir, \"images\", \"gov24\", \"proc\")\n",
    "images = glob.glob(imgDir + os.sep + \"*.png\")\n",
    "hyper = Hyper(captcha_type=CaptchaType.GOV24, weights_only=True, quiet_out=True)\n",
    "\n",
    "# for i in range(100):\n",
    "#     img_path = getData()\n",
    "#     img = Image.open(img_path)\n",
    "#     pred = hyper.predict(img_path)\n",
    "#     img.save(os.path.join(saveDir, pred + \".png\"))  \n",
    "#     img.close()\n",
    "#     img = None\n",
    "#     i += 1\n",
    "#     print(f\"Process {i}\")\n",
    "\n",
    "i = 0\n",
    "\n",
    "for img_path in images:\n",
    "    img = Image.open(img_path)\n",
    "    img = img.resize((138, 51))\n",
    "    img = ImageOps.expand(img, border=1, fill='black')\n",
    "    img = img.crop((0, 0, 139, 52))\n",
    "    # bg_black = Image.new(img.mode, (139, 52), (0,0,0))\n",
    "    # bg_black.paste(img, (0, 0), img)\n",
    "    display(img)\n",
    "    print(img.size)\n",
    "    \n",
    "    pred = hyper.predict(img_path)\n",
    "    img.save(os.path.join(saveDir, pred + \".png\"))  \n",
    "    img.close()\n",
    "    img = None\n",
    "    i += 1\n",
    "    print(f\"Process {i}\")\n",
    "    break\n",
    "\n",
    "# getGov24Data(400)\n",
    "    "
   ]
  }
 ],
 "metadata": {
  "kernelspec": {
   "display_name": ".venv",
   "language": "python",
   "name": "python3"
  },
  "language_info": {
   "codemirror_mode": {
    "name": "ipython",
    "version": 3
   },
   "file_extension": ".py",
   "mimetype": "text/x-python",
   "name": "python",
   "nbconvert_exporter": "python",
   "pygments_lexer": "ipython3",
   "version": "3.8.10"
  }
 },
 "nbformat": 4,
 "nbformat_minor": 2
}
